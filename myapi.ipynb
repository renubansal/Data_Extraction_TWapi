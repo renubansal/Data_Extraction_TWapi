{
 "cells": [
  {
   "cell_type": "code",
   "execution_count": 13,
   "metadata": {},
   "outputs": [],
   "source": [
    "import tweepy\n",
    "import time\n",
    "\n",
    "#enter your credentials here\n",
    "consumer_key        = 'IgooYO1AqXnHaQd5D3tqP94F7'\n",
    "consumer_secret     = '9kL7p01AvezXRw1oMWUBWRJN9dbHzhzqevhZbMCX7IsRHr3GWm'\n",
    "access_token        = '2697439489-XjDFzotcdx1kYFFszXNRWQQ5Kl2DvaxiXJAOdCi'\n",
    "access_token_secret = 'nPzIDfD2Qiejf6CiX3VrodRoqzMxGimzJIBuFLGhuOp1b'\n",
    "\n",
    "def tw_api():\n",
    "    # OAuth process, using the keys and tokens\n",
    "    auth = tweepy.OAuthHandler(consumer_key, consumer_secret)\n",
    "    auth.set_access_token(access_token, access_token_secret)\n",
    "\n",
    "    # Creation of the actual interface, using authentication\n",
    "    api = tweepy.API(auth,wait_on_rate_limit=True,wait_on_rate_limit_notify=True)\n",
    "    return api"
   ]
  },
  {
   "cell_type": "code",
   "execution_count": null,
   "metadata": {},
   "outputs": [],
   "source": []
  }
 ],
 "metadata": {
  "kernelspec": {
   "display_name": "Python 3",
   "language": "python",
   "name": "python3"
  },
  "language_info": {
   "codemirror_mode": {
    "name": "ipython",
    "version": 3
   },
   "file_extension": ".py",
   "mimetype": "text/x-python",
   "name": "python",
   "nbconvert_exporter": "python",
   "pygments_lexer": "ipython3",
   "version": "3.5.2"
  }
 },
 "nbformat": 4,
 "nbformat_minor": 2
}
